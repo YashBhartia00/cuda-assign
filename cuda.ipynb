{
  "nbformat": 4,
  "nbformat_minor": 0,
  "metadata": {
    "colab": {
      "name": "cuda.ipynb",
      "provenance": [],
      "collapsed_sections": []
    },
    "kernelspec": {
      "name": "python3",
      "display_name": "Python 3"
    },
    "accelerator": "GPU"
  },
  "cells": [
    {
      "cell_type": "code",
      "metadata": {
        "id": "NL4l7oaLET5q",
        "colab_type": "code",
        "outputId": "d5d73d1e-072a-4910-8eac-379c00d84e3f",
        "colab": {
          "base_uri": "https://localhost:8080/",
          "height": 85
        }
      },
      "source": [
        "!nvcc --version"
      ],
      "execution_count": 2,
      "outputs": [
        {
          "output_type": "stream",
          "text": [
            "nvcc: NVIDIA (R) Cuda compiler driver\n",
            "Copyright (c) 2005-2018 NVIDIA Corporation\n",
            "Built on Sat_Aug_25_21:08:01_CDT_2018\n",
            "Cuda compilation tools, release 10.0, V10.0.130\n"
          ],
          "name": "stdout"
        }
      ]
    },
    {
      "cell_type": "code",
      "metadata": {
        "id": "wZjwE7QpHJSJ",
        "colab_type": "code",
        "outputId": "9728014f-115c-4ecd-ee13-5d6be7ef66da",
        "colab": {
          "base_uri": "https://localhost:8080/",
          "height": 187
        }
      },
      "source": [
        "!pip install git+git://github.com/andreinechaev/nvcc4jupyter.git"
      ],
      "execution_count": 3,
      "outputs": [
        {
          "output_type": "stream",
          "text": [
            "Collecting git+git://github.com/andreinechaev/nvcc4jupyter.git\n",
            "  Cloning git://github.com/andreinechaev/nvcc4jupyter.git to /tmp/pip-req-build-xqny15qy\n",
            "  Running command git clone -q git://github.com/andreinechaev/nvcc4jupyter.git /tmp/pip-req-build-xqny15qy\n",
            "Building wheels for collected packages: NVCCPlugin\n",
            "  Building wheel for NVCCPlugin (setup.py) ... \u001b[?25l\u001b[?25hdone\n",
            "  Created wheel for NVCCPlugin: filename=NVCCPlugin-0.0.2-cp36-none-any.whl size=4307 sha256=9024fbe82e5607ced4c94f7d49b21e8ec0aa02074c95ab5a373604efbeb88bdb\n",
            "  Stored in directory: /tmp/pip-ephem-wheel-cache-t69arj20/wheels/10/c2/05/ca241da37bff77d60d31a9174f988109c61ba989e4d4650516\n",
            "Successfully built NVCCPlugin\n",
            "Installing collected packages: NVCCPlugin\n",
            "Successfully installed NVCCPlugin-0.0.2\n"
          ],
          "name": "stdout"
        }
      ]
    },
    {
      "cell_type": "code",
      "metadata": {
        "id": "6XXaA8wwHOrA",
        "colab_type": "code",
        "outputId": "6d7c8cef-1389-4fb4-df90-6abc1110e107",
        "colab": {
          "base_uri": "https://localhost:8080/",
          "height": 51
        }
      },
      "source": [
        "%load_ext nvcc_plugin"
      ],
      "execution_count": 4,
      "outputs": [
        {
          "output_type": "stream",
          "text": [
            "created output directory at /content/src\n",
            "Out bin /content/result.out\n"
          ],
          "name": "stdout"
        }
      ]
    },
    {
      "cell_type": "code",
      "metadata": {
        "id": "nK-iaMwUEVMb",
        "colab_type": "code",
        "outputId": "a5c3dd1f-87d9-42fd-c635-61904d5314ed",
        "colab": {
          "base_uri": "https://localhost:8080/",
          "height": 170
        }
      },
      "source": [
        "%%cu\n",
        "#include <iostream>\n",
        "#include <stdio.h>\n",
        "#include <stdlib.h>\n",
        "#include <assert.h>\n",
        "#include <iostream>\n",
        "#define BLOCK_SIZE 16\n",
        "\n",
        "__global__ void transpose(int* mat_in, int* mat_out, unsigned int rows, unsigned int cols) \n",
        "{\n",
        "    unsigned int idx = blockIdx.x * blockDim.x + threadIdx.x;\n",
        "    unsigned int idy = blockIdx.y * blockDim.y + threadIdx.y;\n",
        "\n",
        "    if (idx < cols && idy < rows) \n",
        "    {\n",
        "        unsigned int pos = idy * cols + idx;\n",
        "        unsigned int trans_pos = idx * rows + idy;\n",
        "        mat_out[trans_pos] = mat_in[pos];\n",
        "    }\n",
        "}\n",
        "\n",
        "int main(int argc, char const *argv[])\n",
        "{\n",
        "    int m, n;\n",
        "\n",
        " //change sizes here\n",
        " m=3;\n",
        " n=4;\n",
        "\n",
        "    // allocate memory\n",
        "    int *h_a, *h_b;\n",
        "    cudaMallocHost((void **) &h_a, sizeof(int)*m*n);\n",
        "    cudaMallocHost((void **) &h_b, sizeof(int)*n*m);\n",
        "\n",
        "\n",
        "\n",
        "    // random initialize matrix A\n",
        "    for (int i = 0; i < m; ++i) {\n",
        "        for (int j = 0; j < n; ++j) {\n",
        "            h_a[i * n + j] = rand() % 1024;\n",
        "            std::cout<<h_a[i * n + j]<<\" \";\n",
        "        }\n",
        "        printf(\"\\n\");\n",
        "    }\n",
        " printf(\"\\n\");\n",
        "\n",
        "     // Allocate memory space on the device \n",
        "    int *d_a, *d_b;\n",
        "    cudaMalloc((void **) &d_a, sizeof(int)*m*n);\n",
        "    cudaMalloc((void **) &d_b, sizeof(int)*n*m);\n",
        "\n",
        "    // copy matrix A and B from host to device memory\n",
        "    cudaMemcpy(d_a, h_a, sizeof(int)*m*n, cudaMemcpyHostToDevice);\n",
        "\n",
        "    unsigned int grid_rows = (m + BLOCK_SIZE - 1) / BLOCK_SIZE;\n",
        "    unsigned int grid_cols = (n + BLOCK_SIZE - 1) / BLOCK_SIZE;\n",
        "    dim3 dimGrid(grid_cols, grid_rows);\n",
        "    dim3 dimBlock(BLOCK_SIZE, BLOCK_SIZE);\n",
        " \n",
        "\n",
        "     transpose<<<dimGrid, dimBlock>>>(d_a, d_b, m, n);    \n",
        "  \n",
        "    // Transfer results from device to host \n",
        "    cudaMemcpy(h_b, d_b, sizeof(int)*n*m, cudaMemcpyDeviceToHost);\n",
        "    cudaThreadSynchronize();\n",
        "\n",
        "//print result matrix\n",
        "    for (int i = 0; i < n; ++i)\n",
        "    {\n",
        "        for (int j = 0; j < m; ++j)\n",
        "        {\n",
        "            printf(\"%d \", h_b[i*m + j]);\n",
        "        }\n",
        "        printf(\"\\n\");\n",
        "    }\n",
        "\n",
        "return 0;\n",
        "}"
      ],
      "execution_count": 34,
      "outputs": [
        {
          "output_type": "stream",
          "text": [
            "359 966 105 115 \n",
            "81 255 74 236 \n",
            "809 205 186 939 \n",
            "\n",
            "359 81 809 \n",
            "966 255 205 \n",
            "105 74 186 \n",
            "115 236 939 \n",
            "\n"
          ],
          "name": "stdout"
        }
      ]
    },
    {
      "cell_type": "code",
      "metadata": {
        "id": "KZtMAkDKb3_Y",
        "colab_type": "code",
        "outputId": "decc15bd-b5f6-43f6-e8ce-808721d05744",
        "colab": {
          "base_uri": "https://localhost:8080/",
          "height": 238
        }
      },
      "source": [
        "%%cu\n",
        "#include <stdio.h>\n",
        "#include <stdlib.h>\n",
        "#include <assert.h>\n",
        "#include <iostream>\n",
        "#define BLOCK_SIZE 16\n",
        "\n",
        "__global__ void multiply(int *a,int *b, int *c, int m, int n, int k)\n",
        "{ \n",
        "    int row = blockIdx.y * blockDim.y + threadIdx.y; \n",
        "    int col = blockIdx.x * blockDim.x + threadIdx.x;\n",
        "    int sum = 0;\n",
        "    if( col < k && row < m) \n",
        "    {\n",
        "        for(int i = 0; i < n; i++) \n",
        "        {\n",
        "            sum += a[row * n + i] * b[i * k + col];\n",
        "        }\n",
        "        c[row * k + col] = sum;\n",
        "    }\n",
        "} \n",
        "\n",
        "\n",
        "\n",
        "int main(int argc, char const *argv[])\n",
        "{\n",
        "    int m, n, k;\n",
        "\n",
        " //change sizes here\n",
        " m=3;\n",
        " n=4;\n",
        " k=2;\n",
        "\n",
        "    // allocate memory\n",
        "    int *h_a, *h_b, *h_c;\n",
        "    cudaMallocHost((void **) &h_a, sizeof(int)*m*n);\n",
        "    cudaMallocHost((void **) &h_b, sizeof(int)*n*k);\n",
        "    cudaMallocHost((void **) &h_c, sizeof(int)*m*k);\n",
        "\n",
        "\n",
        "    // random initialize matrix A\n",
        "    for (int i = 0; i < m; ++i) {\n",
        "        for (int j = 0; j < n; ++j) {\n",
        "            h_a[i * n + j] = rand() % 1024;\n",
        "            std::cout<<h_a[i * n + j]<<\" \";\n",
        "        }\n",
        "        printf(\"\\n\");\n",
        "    }\n",
        " printf(\"\\n\");\n",
        "\n",
        "    // random initialize matrix B\n",
        "    for (int i = 0; i < n; ++i) {\n",
        "        for (int j = 0; j < k; ++j) {\n",
        "            h_b[i * k + j] = rand() % 1024;\n",
        "            std::cout<<h_b[i * k + j]<<\" \";\n",
        "        }\n",
        "        printf(\"\\n\");\n",
        "    }\n",
        "\n",
        "printf(\"\\n\");\n",
        "    int *d_a, *d_b, *d_c;\n",
        "    cudaMalloc((void **) &d_a, sizeof(int)*m*n);\n",
        "    cudaMalloc((void **) &d_b, sizeof(int)*n*k);\n",
        "    cudaMalloc((void **) &d_c, sizeof(int)*m*k);\n",
        "\n",
        "    cudaMemcpy(d_a, h_a, sizeof(int)*m*n, cudaMemcpyHostToDevice);\n",
        "    cudaMemcpy(d_b, h_b, sizeof(int)*n*k, cudaMemcpyHostToDevice);\n",
        "\n",
        "    unsigned int grid_rows = (m + BLOCK_SIZE - 1) / BLOCK_SIZE;\n",
        "    unsigned int grid_cols = (k + BLOCK_SIZE - 1) / BLOCK_SIZE;\n",
        "    dim3 dimGrid(grid_cols, grid_rows);\n",
        "    dim3 dimBlock(BLOCK_SIZE, BLOCK_SIZE);\n",
        "   \n",
        "    multiply<<<dimGrid, dimBlock>>>(d_a, d_b, d_c, m, n, k);    \n",
        "  \n",
        "    cudaMemcpy(h_c, d_c, sizeof(int)*m*k, cudaMemcpyDeviceToHost);\n",
        "    cudaThreadSynchronize();\n",
        "\n",
        "//print result matrix\n",
        "    for (int i = 0; i < m; ++i)\n",
        "    {\n",
        "        for (int j = 0; j < k; ++j)\n",
        "        {\n",
        "            printf(\"%d \", h_c[i*k + j]);\n",
        "        }\n",
        "        printf(\"\\n\");\n",
        "    }\n",
        "\n",
        "    // free memory\n",
        "    cudaFree(d_a);\n",
        "    cudaFree(d_b);\n",
        "    cudaFree(d_c);\n",
        "    cudaFreeHost(h_a);\n",
        "    cudaFreeHost(h_b);\n",
        "    cudaFreeHost(h_c);\n",
        "    return 0;\n",
        "}"
      ],
      "execution_count": 22,
      "outputs": [
        {
          "output_type": "stream",
          "text": [
            "424 122 596 722 \n",
            "942 958 760 674 \n",
            "108 394 200 106 \n",
            "\n",
            "446 852 \n",
            "117 290 \n",
            "819 29 \n",
            "128 224 \n",
            "\n",
            "783918 575640 \n",
            "1240930 1253420 \n",
            "271634 235820 \n",
            "\n"
          ],
          "name": "stdout"
        }
      ]
    },
    {
      "cell_type": "code",
      "metadata": {
        "id": "YpDalacmuizJ",
        "colab_type": "code",
        "colab": {}
      },
      "source": [
        ""
      ],
      "execution_count": 0,
      "outputs": []
    }
  ]
}